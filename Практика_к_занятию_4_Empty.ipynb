{
 "cells": [
  {
   "cell_type": "markdown",
   "metadata": {
    "id": "pDrecLU-4QjS"
   },
   "source": [
    "# Практика\n",
    "Используемые библиотеки"
   ]
  },
  {
   "cell_type": "code",
   "execution_count": 52,
   "metadata": {},
   "outputs": [],
   "source": [
    "import pandas as pd\n",
    "import numpy as np\n",
    "import requests # for web-download\n",
    "import io # for web-download\n",
    "import re # for data processing\n"
   ]
  },
  {
   "cell_type": "markdown",
   "metadata": {},
   "source": [
    "## Загрузка DataFrame\n",
    "### Задача 1\n",
    "На основании данных портала \"Открытые данные России\" о результатах Химического анализа родника в Нескучном саду https://data.gov.ru/opendata/7708660670-rodnik-neskuchniy-sad\n",
    "средствами библиотеки __Pandas__ сформируйте поле выводов по каждому анализирумомому параметру.\n",
    "Например, по показателю _pH_ получен результат _8.4 единицы pH_ при нормативе от _6 до 9 единиц pH_. Т.о. по данному показателю результат анализа в норме.\n",
    "Для решения задачи необходимо программно \"прочитать и понять\" значение столбца \"Норматив\" и выделенное численное значение сравнить с нормативом согласно логике норматива. Например, __6 >= pH >= 9__.\n",
    "В итоговом DataFrame столбец \"Показатель\" сделайте индексным.\n",
    "\n",
    "\n",
    "Загзрузка DataFrame выполняется непосредственно c сайта \"Открытые данные России\" https://data.gov.ru/opendata/7708660670-rodnik-neskuchniy-sad/data-20160608T1215-structure-20160608T1215.csv (см. код ниже).\n"
   ]
  },
  {
   "cell_type": "code",
   "execution_count": 53,
   "metadata": {},
   "outputs": [
    {
     "data": {
      "text/html": [
       "<div>\n",
       "<style scoped>\n",
       "    .dataframe tbody tr th:only-of-type {\n",
       "        vertical-align: middle;\n",
       "    }\n",
       "\n",
       "    .dataframe tbody tr th {\n",
       "        vertical-align: top;\n",
       "    }\n",
       "\n",
       "    .dataframe thead th {\n",
       "        text-align: right;\n",
       "    }\n",
       "</style>\n",
       "<table border=\"1\" class=\"dataframe\">\n",
       "  <thead>\n",
       "    <tr style=\"text-align: right;\">\n",
       "      <th></th>\n",
       "      <th>Показатель</th>\n",
       "      <th>Единица измерений</th>\n",
       "      <th>Результат анализа</th>\n",
       "      <th>Норматив</th>\n",
       "    </tr>\n",
       "  </thead>\n",
       "  <tbody>\n",
       "    <tr>\n",
       "      <th>0</th>\n",
       "      <td>pH</td>\n",
       "      <td>единицы pH</td>\n",
       "      <td>8.4</td>\n",
       "      <td>в пределах 6-9</td>\n",
       "    </tr>\n",
       "    <tr>\n",
       "      <th>1</th>\n",
       "      <td>Запах</td>\n",
       "      <td>баллы</td>\n",
       "      <td>1</td>\n",
       "      <td>не более 2-3</td>\n",
       "    </tr>\n",
       "    <tr>\n",
       "      <th>2</th>\n",
       "      <td>Цветность</td>\n",
       "      <td>градусы</td>\n",
       "      <td>б/цвета</td>\n",
       "      <td>не более 30</td>\n",
       "    </tr>\n",
       "    <tr>\n",
       "      <th>3</th>\n",
       "      <td>Жёсткость</td>\n",
       "      <td>мг-эквл/дм3</td>\n",
       "      <td>9.199999999999999</td>\n",
       "      <td>в пределах 7-10</td>\n",
       "    </tr>\n",
       "    <tr>\n",
       "      <th>4</th>\n",
       "      <td>Аммиак и аммоний-ион (по азоту)</td>\n",
       "      <td>мг/дм3</td>\n",
       "      <td>0.42</td>\n",
       "      <td>не более 1,5</td>\n",
       "    </tr>\n",
       "    <tr>\n",
       "      <th>5</th>\n",
       "      <td>Нитриты (по NO2)</td>\n",
       "      <td>мг/дм3</td>\n",
       "      <td>0.017</td>\n",
       "      <td>не более 3,3</td>\n",
       "    </tr>\n",
       "    <tr>\n",
       "      <th>6</th>\n",
       "      <td>Нитраты (по NO3)</td>\n",
       "      <td>мг/дм3</td>\n",
       "      <td>24</td>\n",
       "      <td>не более 45</td>\n",
       "    </tr>\n",
       "    <tr>\n",
       "      <th>7</th>\n",
       "      <td>Фосфаты (P)</td>\n",
       "      <td>мг/дм3</td>\n",
       "      <td>0.36</td>\n",
       "      <td>не более 3,5</td>\n",
       "    </tr>\n",
       "    <tr>\n",
       "      <th>8</th>\n",
       "      <td>Хлориды (Cl)</td>\n",
       "      <td>мг/дм3</td>\n",
       "      <td>200</td>\n",
       "      <td>не более 350</td>\n",
       "    </tr>\n",
       "    <tr>\n",
       "      <th>9</th>\n",
       "      <td>Сульфаты (SO4)</td>\n",
       "      <td>мг/дм3</td>\n",
       "      <td>189.5</td>\n",
       "      <td>не более 500</td>\n",
       "    </tr>\n",
       "    <tr>\n",
       "      <th>10</th>\n",
       "      <td>Железо (включая хлорное железо) по Fe</td>\n",
       "      <td>мг/дм3</td>\n",
       "      <td>0.019</td>\n",
       "      <td>не более 0,3</td>\n",
       "    </tr>\n",
       "    <tr>\n",
       "      <th>11</th>\n",
       "      <td>Нефть</td>\n",
       "      <td>мг/дм3</td>\n",
       "      <td>0.55</td>\n",
       "      <td>не более 0,3</td>\n",
       "    </tr>\n",
       "    <tr>\n",
       "      <th>12</th>\n",
       "      <td>Общая минерализация (сухой остаток)</td>\n",
       "      <td>мг/дм3</td>\n",
       "      <td>590</td>\n",
       "      <td>не более 1000</td>\n",
       "    </tr>\n",
       "    <tr>\n",
       "      <th>13</th>\n",
       "      <td>Окисляемость перманганатная</td>\n",
       "      <td>мг/дм3</td>\n",
       "      <td>2</td>\n",
       "      <td>не более 0,5</td>\n",
       "    </tr>\n",
       "  </tbody>\n",
       "</table>\n",
       "</div>"
      ],
      "text/plain": [
       "                               Показатель Единица измерений  \\\n",
       "0                                      pH        единицы pH   \n",
       "1                                   Запах             баллы   \n",
       "2                               Цветность           градусы   \n",
       "3                               Жёсткость       мг-эквл/дм3   \n",
       "4         Аммиак и аммоний-ион (по азоту)            мг/дм3   \n",
       "5                        Нитриты (по NO2)            мг/дм3   \n",
       "6                        Нитраты (по NO3)            мг/дм3   \n",
       "7                             Фосфаты (P)            мг/дм3   \n",
       "8                            Хлориды (Cl)            мг/дм3   \n",
       "9                          Сульфаты (SO4)            мг/дм3   \n",
       "10  Железо (включая хлорное железо) по Fe            мг/дм3   \n",
       "11                                  Нефть            мг/дм3   \n",
       "12    Общая минерализация (сухой остаток)            мг/дм3   \n",
       "13            Окисляемость перманганатная            мг/дм3   \n",
       "\n",
       "    Результат анализа         Норматив  \n",
       "0                 8.4   в пределах 6-9  \n",
       "1                   1     не более 2-3  \n",
       "2             б/цвета      не более 30  \n",
       "3   9.199999999999999  в пределах 7-10  \n",
       "4                0.42     не более 1,5  \n",
       "5               0.017     не более 3,3  \n",
       "6                  24      не более 45  \n",
       "7                0.36     не более 3,5  \n",
       "8                 200     не более 350  \n",
       "9               189.5     не более 500  \n",
       "10              0.019     не более 0,3  \n",
       "11               0.55     не более 0,3  \n",
       "12                590    не более 1000  \n",
       "13                  2     не более 0,5  "
      ]
     },
     "metadata": {},
     "output_type": "display_data"
    }
   ],
   "source": [
    "headers={\n",
    "    'User-Agent': 'Mozilla/5.0 (X11; Ubuntu; Linux x86_64; rv:52.0) Gecko/20100101 Firefox/52.0',\n",
    "}\n",
    "def get_content(url):\n",
    "    with requests.Session() as req:\n",
    "        req.headers.update(headers)\n",
    "        r = req.get(url).content\n",
    "    return r\n",
    "\n",
    "url =\"https://data.gov.ru/opendata/7708660670-rodnik-neskuchniy-sad/data-20160608T1215-structure-20160608T1215.csv\"\n",
    "s = get_content(url)\n",
    "df=pd.read_csv(io.StringIO(s.decode('UTF8')))\n",
    "\n",
    "\n",
    "### Если не работает загрузка on-line\n",
    "#df=pd.read_csv(\"Химический анализ родника в Нескучном саду.csv\", sep=';')\n",
    "display(df)"
   ]
  },
  {
   "cell_type": "code",
   "execution_count": 54,
   "metadata": {},
   "outputs": [],
   "source": [
    "df['Сравнение результата и норматива'] = \" \""
   ]
  },
  {
   "cell_type": "code",
   "execution_count": 55,
   "metadata": {},
   "outputs": [],
   "source": [
    "if 6 < float(df.iloc[0]['Результат анализа']) < 9:\n",
    "    df.loc[0]['Сравнение результата и норматива'] = True\n",
    "else:\n",
    "    df.loc[0]['Сравнение результата и норматива'] = False"
   ]
  },
  {
   "cell_type": "code",
   "execution_count": 56,
   "metadata": {},
   "outputs": [],
   "source": [
    "if float(df.iloc[1]['Результат анализа']) < 3:\n",
    "    df.loc[1]['Сравнение результата и норматива'] = True\n",
    "else:\n",
    "    df.loc[1]['Сравнение результата и норматива'] = False"
   ]
  },
  {
   "cell_type": "code",
   "execution_count": 57,
   "metadata": {},
   "outputs": [],
   "source": [
    "df.loc[2]['Результат анализа'] = 0\n",
    "if float(df.iloc[2]['Результат анализа']) < 30:\n",
    "    df.loc[2]['Сравнение результата и норматива'] = True\n",
    "else:\n",
    "    df.loc[2]['Сравнение результата и норматива'] = False"
   ]
  },
  {
   "cell_type": "code",
   "execution_count": 58,
   "metadata": {},
   "outputs": [],
   "source": [
    "if 7 < float(df.iloc[3]['Результат анализа']) < 10:\n",
    "    df.loc[3]['Сравнение результата и норматива'] = True\n",
    "else:\n",
    "    df.loc[3]['Сравнение результата и норматива'] = False"
   ]
  },
  {
   "cell_type": "code",
   "execution_count": 59,
   "metadata": {},
   "outputs": [],
   "source": [
    "if float(df.iloc[4]['Результат анализа']) < 1.5:\n",
    "    df.loc[4]['Сравнение результата и норматива'] = True\n",
    "else:\n",
    "    df.loc[4]['Сравнение результата и норматива'] = False"
   ]
  },
  {
   "cell_type": "code",
   "execution_count": 60,
   "metadata": {},
   "outputs": [],
   "source": [
    "if float(df.iloc[5]['Результат анализа']) < 3.3:\n",
    "    df.loc[5]['Сравнение результата и норматива'] = True\n",
    "else:\n",
    "    df.loc[5]['Сравнение результата и норматива'] = False"
   ]
  },
  {
   "cell_type": "code",
   "execution_count": 61,
   "metadata": {},
   "outputs": [],
   "source": [
    "if float(df.iloc[6]['Результат анализа']) < 45:\n",
    "    df.loc[6]['Сравнение результата и норматива'] = True\n",
    "else:\n",
    "    df.loc[6]['Сравнение результата и норматива'] = False"
   ]
  },
  {
   "cell_type": "code",
   "execution_count": 62,
   "metadata": {},
   "outputs": [],
   "source": [
    "if float(df.iloc[7]['Результат анализа']) < 3.5:\n",
    "    df.loc[7]['Сравнение результата и норматива'] = True\n",
    "else:\n",
    "    df.loc[7]['Сравнение результата и норматива'] = False"
   ]
  },
  {
   "cell_type": "code",
   "execution_count": 63,
   "metadata": {},
   "outputs": [],
   "source": [
    "if float(df.iloc[8]['Результат анализа']) < 350:\n",
    "    df.loc[8]['Сравнение результата и норматива'] = True\n",
    "else:\n",
    "    df.loc[8]['Сравнение результата и норматива'] = False"
   ]
  },
  {
   "cell_type": "code",
   "execution_count": 64,
   "metadata": {},
   "outputs": [],
   "source": [
    "if float(df.iloc[9]['Результат анализа']) < 500:\n",
    "    df.loc[9]['Сравнение результата и норматива'] = True\n",
    "else:\n",
    "    df.loc[9]['Сравнение результата и норматива'] = False"
   ]
  },
  {
   "cell_type": "code",
   "execution_count": 65,
   "metadata": {},
   "outputs": [],
   "source": [
    "if float(df.iloc[10]['Результат анализа']) < 0.3:\n",
    "    df.loc[10]['Сравнение результата и норматива'] = True\n",
    "else:\n",
    "    df.loc[10]['Сравнение результата и норматива'] = False"
   ]
  },
  {
   "cell_type": "code",
   "execution_count": 66,
   "metadata": {},
   "outputs": [],
   "source": [
    "if float(df.iloc[11]['Результат анализа']) < 0.3:\n",
    "    df.loc[11]['Сравнение результата и норматива'] = True\n",
    "else:\n",
    "    df.loc[11]['Сравнение результата и норматива'] = False"
   ]
  },
  {
   "cell_type": "code",
   "execution_count": 67,
   "metadata": {},
   "outputs": [],
   "source": [
    "if float(df.iloc[12]['Результат анализа']) < 1000:\n",
    "    df.loc[12]['Сравнение результата и норматива'] = True\n",
    "else:\n",
    "    df.loc[12]['Сравнение результата и норматива'] = False"
   ]
  },
  {
   "cell_type": "code",
   "execution_count": 68,
   "metadata": {},
   "outputs": [],
   "source": [
    "if float(df.iloc[13]['Результат анализа']) < 0.5:\n",
    "    df.loc[13]['Сравнение результата и норматива'] = True\n",
    "else:\n",
    "    df.loc[13]['Сравнение результата и норматива'] = False"
   ]
  },
  {
   "cell_type": "code",
   "execution_count": 69,
   "metadata": {},
   "outputs": [
    {
     "data": {
      "text/html": [
       "<div>\n",
       "<style scoped>\n",
       "    .dataframe tbody tr th:only-of-type {\n",
       "        vertical-align: middle;\n",
       "    }\n",
       "\n",
       "    .dataframe tbody tr th {\n",
       "        vertical-align: top;\n",
       "    }\n",
       "\n",
       "    .dataframe thead th {\n",
       "        text-align: right;\n",
       "    }\n",
       "</style>\n",
       "<table border=\"1\" class=\"dataframe\">\n",
       "  <thead>\n",
       "    <tr style=\"text-align: right;\">\n",
       "      <th></th>\n",
       "      <th>Единица измерений</th>\n",
       "      <th>Результат анализа</th>\n",
       "      <th>Норматив</th>\n",
       "      <th>Сравнение результата и норматива</th>\n",
       "    </tr>\n",
       "    <tr>\n",
       "      <th>Показатель</th>\n",
       "      <th></th>\n",
       "      <th></th>\n",
       "      <th></th>\n",
       "      <th></th>\n",
       "    </tr>\n",
       "  </thead>\n",
       "  <tbody>\n",
       "    <tr>\n",
       "      <th>pH</th>\n",
       "      <td>единицы pH</td>\n",
       "      <td>8.4</td>\n",
       "      <td>в пределах 6-9</td>\n",
       "      <td>True</td>\n",
       "    </tr>\n",
       "    <tr>\n",
       "      <th>Запах</th>\n",
       "      <td>баллы</td>\n",
       "      <td>1</td>\n",
       "      <td>не более 2-3</td>\n",
       "      <td>True</td>\n",
       "    </tr>\n",
       "    <tr>\n",
       "      <th>Цветность</th>\n",
       "      <td>градусы</td>\n",
       "      <td>0</td>\n",
       "      <td>не более 30</td>\n",
       "      <td>True</td>\n",
       "    </tr>\n",
       "    <tr>\n",
       "      <th>Жёсткость</th>\n",
       "      <td>мг-эквл/дм3</td>\n",
       "      <td>9.199999999999999</td>\n",
       "      <td>в пределах 7-10</td>\n",
       "      <td>True</td>\n",
       "    </tr>\n",
       "    <tr>\n",
       "      <th>Аммиак и аммоний-ион (по азоту)</th>\n",
       "      <td>мг/дм3</td>\n",
       "      <td>0.42</td>\n",
       "      <td>не более 1,5</td>\n",
       "      <td>True</td>\n",
       "    </tr>\n",
       "    <tr>\n",
       "      <th>Нитриты (по NO2)</th>\n",
       "      <td>мг/дм3</td>\n",
       "      <td>0.017</td>\n",
       "      <td>не более 3,3</td>\n",
       "      <td>True</td>\n",
       "    </tr>\n",
       "    <tr>\n",
       "      <th>Нитраты (по NO3)</th>\n",
       "      <td>мг/дм3</td>\n",
       "      <td>24</td>\n",
       "      <td>не более 45</td>\n",
       "      <td>True</td>\n",
       "    </tr>\n",
       "    <tr>\n",
       "      <th>Фосфаты (P)</th>\n",
       "      <td>мг/дм3</td>\n",
       "      <td>0.36</td>\n",
       "      <td>не более 3,5</td>\n",
       "      <td>True</td>\n",
       "    </tr>\n",
       "    <tr>\n",
       "      <th>Хлориды (Cl)</th>\n",
       "      <td>мг/дм3</td>\n",
       "      <td>200</td>\n",
       "      <td>не более 350</td>\n",
       "      <td>True</td>\n",
       "    </tr>\n",
       "    <tr>\n",
       "      <th>Сульфаты (SO4)</th>\n",
       "      <td>мг/дм3</td>\n",
       "      <td>189.5</td>\n",
       "      <td>не более 500</td>\n",
       "      <td>True</td>\n",
       "    </tr>\n",
       "    <tr>\n",
       "      <th>Железо (включая хлорное железо) по Fe</th>\n",
       "      <td>мг/дм3</td>\n",
       "      <td>0.019</td>\n",
       "      <td>не более 0,3</td>\n",
       "      <td>True</td>\n",
       "    </tr>\n",
       "    <tr>\n",
       "      <th>Нефть</th>\n",
       "      <td>мг/дм3</td>\n",
       "      <td>0.55</td>\n",
       "      <td>не более 0,3</td>\n",
       "      <td>False</td>\n",
       "    </tr>\n",
       "    <tr>\n",
       "      <th>Общая минерализация (сухой остаток)</th>\n",
       "      <td>мг/дм3</td>\n",
       "      <td>590</td>\n",
       "      <td>не более 1000</td>\n",
       "      <td>True</td>\n",
       "    </tr>\n",
       "    <tr>\n",
       "      <th>Окисляемость перманганатная</th>\n",
       "      <td>мг/дм3</td>\n",
       "      <td>2</td>\n",
       "      <td>не более 0,5</td>\n",
       "      <td>False</td>\n",
       "    </tr>\n",
       "  </tbody>\n",
       "</table>\n",
       "</div>"
      ],
      "text/plain": [
       "                                      Единица измерений  Результат анализа  \\\n",
       "Показатель                                                                   \n",
       "pH                                           единицы pH                8.4   \n",
       "Запах                                             баллы                  1   \n",
       "Цветность                                       градусы                  0   \n",
       "Жёсткость                                   мг-эквл/дм3  9.199999999999999   \n",
       "Аммиак и аммоний-ион (по азоту)                  мг/дм3               0.42   \n",
       "Нитриты (по NO2)                                 мг/дм3              0.017   \n",
       "Нитраты (по NO3)                                 мг/дм3                 24   \n",
       "Фосфаты (P)                                      мг/дм3               0.36   \n",
       "Хлориды (Cl)                                     мг/дм3                200   \n",
       "Сульфаты (SO4)                                   мг/дм3              189.5   \n",
       "Железо (включая хлорное железо) по Fe            мг/дм3              0.019   \n",
       "Нефть                                            мг/дм3               0.55   \n",
       "Общая минерализация (сухой остаток)              мг/дм3                590   \n",
       "Окисляемость перманганатная                      мг/дм3                  2   \n",
       "\n",
       "                                              Норматив  \\\n",
       "Показатель                                               \n",
       "pH                                      в пределах 6-9   \n",
       "Запах                                     не более 2-3   \n",
       "Цветность                                  не более 30   \n",
       "Жёсткость                              в пределах 7-10   \n",
       "Аммиак и аммоний-ион (по азоту)           не более 1,5   \n",
       "Нитриты (по NO2)                          не более 3,3   \n",
       "Нитраты (по NO3)                           не более 45   \n",
       "Фосфаты (P)                               не более 3,5   \n",
       "Хлориды (Cl)                              не более 350   \n",
       "Сульфаты (SO4)                            не более 500   \n",
       "Железо (включая хлорное железо) по Fe     не более 0,3   \n",
       "Нефть                                     не более 0,3   \n",
       "Общая минерализация (сухой остаток)      не более 1000   \n",
       "Окисляемость перманганатная               не более 0,5   \n",
       "\n",
       "                                      Сравнение результата и норматива  \n",
       "Показатель                                                              \n",
       "pH                                                                True  \n",
       "Запах                                                             True  \n",
       "Цветность                                                         True  \n",
       "Жёсткость                                                         True  \n",
       "Аммиак и аммоний-ион (по азоту)                                   True  \n",
       "Нитриты (по NO2)                                                  True  \n",
       "Нитраты (по NO3)                                                  True  \n",
       "Фосфаты (P)                                                       True  \n",
       "Хлориды (Cl)                                                      True  \n",
       "Сульфаты (SO4)                                                    True  \n",
       "Железо (включая хлорное железо) по Fe                             True  \n",
       "Нефть                                                            False  \n",
       "Общая минерализация (сухой остаток)                               True  \n",
       "Окисляемость перманганатная                                      False  "
      ]
     },
     "execution_count": 69,
     "metadata": {},
     "output_type": "execute_result"
    }
   ],
   "source": [
    "df_1 = df.set_index('Показатель')\n",
    "df_1"
   ]
  },
  {
   "cell_type": "markdown",
   "metadata": {
    "id": "t0XOMos2Tl0e"
   },
   "source": [
    "### Задача 2\n",
    "В ящике 5 апельсинов и 4 яблока. Наудачу выбираются 3 фрукта. Какова вероятность, что все три фрукта – апельсины?\n",
    "\n",
    "В интернете полученный аналитически ответ 0.119. Подтверждается ли он эксперементально?\n"
   ]
  },
  {
   "cell_type": "code",
   "execution_count": 53,
   "metadata": {
    "id": "o7NjAE9uUo-L"
   },
   "outputs": [
    {
     "data": {
      "text/plain": [
       "0.1194"
      ]
     },
     "execution_count": 53,
     "metadata": {},
     "output_type": "execute_result"
    }
   ],
   "source": [
    "import random\n",
    "# Заполняем ящик\n",
    "orange = 0\n",
    "apple = 1\n",
    "box = [orange]*5 + [apple]*4\n",
    "# Число экспериментов\n",
    "n = 100000\n",
    "# Формируем выборку\n",
    "df = pd.DataFrame({'A': list(map(lambda a: sum(random.sample(box, 3)) == orange, range(n)\n",
    "                               ))\n",
    "                 })\n",
    "df['A'].mean()"
   ]
  },
  {
   "cell_type": "markdown",
   "metadata": {
    "id": "g7A7QlvGTnwZ"
   },
   "source": [
    "### Задача 3\n",
    "Мастер, имея 10 деталей, из которых 3 – нестандартных, проверяет детали одну за другой, пока ему не попадется стандартная. Какова вероятность, что он проверит ровно две детали?\n",
    "\n",
    "\n",
    "В интернете полученный аналитически ответ 7/30 или 0.23333. Подтверждается ли он эксперементально?"
   ]
  },
  {
   "cell_type": "code",
   "execution_count": 58,
   "metadata": {},
   "outputs": [],
   "source": [
    "# Заполняем ящик\n",
    "standart = 0\n",
    "not_standart = 1\n",
    "details = [standart]*7 + [not_standart]*3\n",
    "# Число экспериментов\n",
    "n = 100000\n",
    "# Формируем выборку\n",
    "df = pd.DataFrame({'A': list(map(lambda a: sum(random.sample(details, 1)) == not_standart, range(n)\n",
    "                               ))\n",
    "                 })\n",
    "v_1 = df['A'].mean()"
   ]
  },
  {
   "cell_type": "code",
   "execution_count": 59,
   "metadata": {},
   "outputs": [],
   "source": [
    "# Заполняем ящик\n",
    "standart = 0\n",
    "not_standart = 1\n",
    "details = [standart]*7 + [not_standart]*2\n",
    "# Число экспериментов\n",
    "n = 100000\n",
    "# Формируем выборку\n",
    "df = pd.DataFrame({'A': list(map(lambda a: sum(random.sample(details, 1)) == standart, range(n)\n",
    "                               ))\n",
    "                 })\n",
    "v_2 = df['A'].mean()"
   ]
  },
  {
   "cell_type": "code",
   "execution_count": 60,
   "metadata": {},
   "outputs": [
    {
     "data": {
      "text/plain": [
       "0.23117933699999998"
      ]
     },
     "execution_count": 60,
     "metadata": {},
     "output_type": "execute_result"
    }
   ],
   "source": [
    "res_v = v_1*v_2\n",
    "res_v"
   ]
  },
  {
   "cell_type": "code",
   "execution_count": null,
   "metadata": {},
   "outputs": [],
   "source": []
  }
 ],
 "metadata": {
  "celltoolbar": "Raw Cell Format",
  "colab": {
   "collapsed_sections": [],
   "name": "Практика к занятию 11.ipynb",
   "provenance": []
  },
  "kernelspec": {
   "display_name": "Python 3 (ipykernel)",
   "language": "python",
   "name": "python3"
  },
  "language_info": {
   "codemirror_mode": {
    "name": "ipython",
    "version": 3
   },
   "file_extension": ".py",
   "mimetype": "text/x-python",
   "name": "python",
   "nbconvert_exporter": "python",
   "pygments_lexer": "ipython3",
   "version": "3.9.12"
  }
 },
 "nbformat": 4,
 "nbformat_minor": 1
}
